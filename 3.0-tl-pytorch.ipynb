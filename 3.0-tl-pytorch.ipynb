{
 "cells": [
  {
   "cell_type": "markdown",
   "metadata": {},
   "source": [
    "# Exercise 3"
   ]
  },
  {
   "cell_type": "markdown",
   "metadata": {},
   "source": [
    "**Please Note**: We updated the requirements.txt\n",
    "\n",
    "Please install the new requirements before editing this exercise."
   ]
  },
  {
   "cell_type": "markdown",
   "metadata": {},
   "source": [
    "## Import packages"
   ]
  },
  {
   "cell_type": "code",
   "execution_count": 4,
   "metadata": {},
   "outputs": [],
   "source": [
    "import os\n",
    "\n",
    "from vll.utils.download import download_mnist\n",
    "import numpy as np\n",
    "import matplotlib.pyplot as plt\n",
    "\n",
    "import skimage\n",
    "import skimage.io as io\n",
    "\n",
    "import torch\n",
    "import torch.nn.functional as F\n",
    "from torchvision import transforms\n",
    "\n",
    "from models.mnist.simple_cnn import Net"
   ]
  },
  {
   "cell_type": "markdown",
   "metadata": {},
   "source": [
    "## Task 1\n",
    "(2 points)\n",
    "\n",
    "In this task, you will learn some basic tensor operations using the PyTorch library.\n",
    "\n",
    "Reference for torch: https://pytorch.org/docs/stable/torch.html"
   ]
  },
  {
   "cell_type": "code",
   "execution_count": 73,
   "metadata": {},
   "outputs": [
    {
     "name": "stdout",
     "output_type": "stream",
     "text": [
      "tensor([ 0,  1,  2,  3,  4,  5,  6,  7,  8,  9, 10, 11, 12, 13, 14, 15, 16, 17,\n",
      "        18, 19])\n",
      "tensor([ 0.0000,  0.6962,  1.7432,  0.3734,  2.9580,  0.1773,  1.7656,  5.8240,\n",
      "         4.8753,  5.5255,  0.0746,  5.3708,  5.2589,  5.5312,  7.2738, 14.7612,\n",
      "        11.2586, 13.5549,  2.3928,  0.0452])\n",
      "tensor([-1.0000, -0.3038,  0.7432, -0.6266,  1.9580, -0.8227,  0.7656,  4.8240,\n",
      "         3.8753,  4.5255, -0.9254,  4.3708,  4.2589,  4.5312,  6.2738, 13.7612,\n",
      "        10.2586, 12.5549,  1.3928, -0.9548])\n",
      "1.9579570293426514\n"
     ]
    }
   ],
   "source": [
    "# Create a numpy array that looks like this: [0, 1, 2, ..., 19]\n",
    "arr = np.arange(20)\n",
    "\n",
    "# Convert the numpy array to a torch tensor\n",
    "tensor = torch.from_numpy(arr)\n",
    "print(tensor)\n",
    "\n",
    "# Create a tensor that contains random numbers.\n",
    "# It should have the same size like the numpy array.\n",
    "# Multiply it with the previous tensor.\n",
    "rand_tensor = torch.rand(20)\n",
    "tensor = tensor * rand_tensor\n",
    "print(tensor)\n",
    "\n",
    "# Create a tensor that contains only 1s.\n",
    "# It should have the same size like the numpy array.\n",
    "# Substract it from the previous tensor.\n",
    "tensor = tensor - torch.ones(20)\n",
    "print(tensor)\n",
    "\n",
    "# Get the 5th element using a index.\n",
    "element = tensor[4].item()\n",
    "print(element)\n",
    "\n",
    "# Create a tensor that contains only 0s.\n",
    "# It should have the same size like the numpy array.\n",
    "# Multiply it with the previous tensor without any assignment (in place).\n",
    "tensor *= torch.zeros(20)"
   ]
  },
  {
   "cell_type": "code",
   "execution_count": 74,
   "metadata": {},
   "outputs": [
    {
     "name": "stdout",
     "output_type": "stream",
     "text": [
      "torch.Size([512, 512, 3])\n",
      "786432\n",
      "torch.Size([1, 786432])\n",
      "torch.Size([1, 786432])\n",
      "torch.Size([512, 512, 3])\n",
      "tensor(358449.9647, dtype=torch.float64)\n",
      "tensor(0.4558, dtype=torch.float64)\n",
      "tensor(1., dtype=torch.float64)\n"
     ]
    }
   ],
   "source": [
    "# Load the image from the last exercise as RGB image.\n",
    "image = io.imread('./data/pepo.jpg').astype(np.float) / 255\n",
    "\n",
    "# Convert the image to a tensor\n",
    "image = torch.from_numpy(image)\n",
    "\n",
    "# Print its shape\n",
    "shape = image.shape\n",
    "print(image.shape)\n",
    "\n",
    "# Flatten the image\n",
    "image = image.view(-1)\n",
    "print(len(image))\n",
    "\n",
    "# Add another dimension resulting in a 1x78643 tensor\n",
    "image = image.unsqueeze(0)\n",
    "print(image.shape)\n",
    "\n",
    "# Revert the last action\n",
    "image.squeeze()\n",
    "print(image.shape)\n",
    "\n",
    "# Reshape the tensor, so that it has the original 2D dimensions\n",
    "image = image.view(shape)\n",
    "print(image.shape)\n",
    "\n",
    "# Calculate the sum, mean and max of the tensor\n",
    "print(torch.sum(image))\n",
    "print(torch.mean(image))\n",
    "print(torch.max(image))"
   ]
  },
  {
   "cell_type": "markdown",
   "metadata": {},
   "source": [
    "## Task 2\n",
    "(2 points)\n",
    "\n",
    "Use Autograd to perform operations on a tensor and output then gradients."
   ]
  },
  {
   "cell_type": "code",
   "execution_count": 75,
   "metadata": {},
   "outputs": [
    {
     "name": "stdout",
     "output_type": "stream",
     "text": [
      "tensor([[0.1967, 0.9516],\n",
      "        [0.0419, 0.3442]], requires_grad=True)\n",
      "tensor([[2.1967, 2.9516],\n",
      "        [2.0419, 2.3442]], grad_fn=<AddBackward0>)\n",
      "tensor([[4.8257, 8.7119],\n",
      "        [4.1694, 5.4952]], grad_fn=<PowBackward0>)\n",
      "tensor(5.8006, grad_fn=<MeanBackward0>)\n",
      "tensor([[1.0984, 1.4758],\n",
      "        [1.0210, 1.1721]])\n",
      "False\n"
     ]
    }
   ],
   "source": [
    "# Create a random 2x2 tensor which requires gradients\n",
    "x = torch.rand([2, 2],requires_grad=True)\n",
    "print(x)\n",
    "\n",
    "# Create another tensor by adding 2.0\n",
    "y = x + 2.0\n",
    "print(y)\n",
    "\n",
    "# Create a third tensor z = y^2\n",
    "z = y ** 2\n",
    "print(z)\n",
    "\n",
    "# Compute out as the mean of values in z\n",
    "out = torch.mean(z)\n",
    "print(out)\n",
    "\n",
    "# Perform back propagation on out\n",
    "out.backward()\n",
    "\n",
    "# Print the gradients dout/dx\n",
    "print(x.grad)\n",
    "\n",
    "# Create a copy of y whithout gradients\n",
    "y2 = y.data\n",
    "print(y2.requires_grad)\n",
    "\n",
    "# Perform the mean operation on z\n",
    "# with gradients globally disabled\n"
   ]
  },
  {
   "cell_type": "markdown",
   "metadata": {},
   "source": [
    "## Task 3\n",
    "(3 points)\n",
    "\n",
    "Implement a Dataset class for MNIST."
   ]
  },
  {
   "cell_type": "code",
   "execution_count": 76,
   "metadata": {},
   "outputs": [
    {
     "name": "stdout",
     "output_type": "stream",
     "text": [
      "MNIST is ready!\n"
     ]
    }
   ],
   "source": [
    "# We first download the MNIST dataset\n",
    "download_mnist()"
   ]
  },
  {
   "cell_type": "code",
   "execution_count": 77,
   "metadata": {},
   "outputs": [],
   "source": [
    "class MNIST:\n",
    "    \"\"\"\n",
    "    Dataset class for MNIST\n",
    "    \"\"\"\n",
    "\n",
    "    def __init__(self, root, transform=None):\n",
    "        \"\"\"\n",
    "        root -- path to either \"training\" or \"testing\"\n",
    "        \n",
    "        transform -- transform (from torchvision.transforms)\n",
    "                     to be applied to the data\n",
    "        \"\"\"\n",
    "        # save transforms\n",
    "        self.transform = transform\n",
    "        \n",
    "        # TODO: create a list of all subdirectories (named like the classes) \n",
    "        #       within the dataset root\n",
    "        dirs = [os.path.relpath(d[0],root) for d in os.walk(root)]\n",
    "        dirs.pop(dirs.index('.'))\n",
    "        \n",
    "        # TODO: create a list of paths to all images\n",
    "        #       with the ground truth label\n",
    "        \n",
    "        self.paths = []\n",
    "        for dir in dirs:\n",
    "            self.paths += [(os.path.join(root, dir, f), int(dir)) for f in os.listdir(os.path.join(root, dir))]\n",
    "        self._len = len(self.paths)\n",
    "        \n",
    "    \n",
    "    def __len__(self):\n",
    "        \"\"\"\n",
    "        Returns the lenght of the dataset (number of images)\n",
    "        \"\"\"\n",
    "        # TODO: return the length (number of images) of the dataset\n",
    "        return self._len\n",
    "        \n",
    "\n",
    "    def __getitem__(self, index):\n",
    "        \"\"\"\n",
    "        Loads and returns one image as floating point numpy array\n",
    "        \n",
    "        index -- image index in [0, self.__len__() - 1]\n",
    "        \"\"\"\n",
    "        # TODO: load the ith image as an numpy array (dtype=float32)\n",
    "        image = io.imread(self.paths[index][0]).astype(np.float32)\n",
    "        \n",
    "        # TODO: apply transforms to the image (if there are any)\n",
    "        if self.transform is not None:\n",
    "            image = self.transform(image)\n",
    "        \n",
    "        # TODO: return a tuple (transformed image, ground truth)\n",
    "        return image, self.paths[index][1]"
   ]
  },
  {
   "cell_type": "markdown",
   "metadata": {},
   "source": [
    "## Task 4\n",
    "(3 points)\n",
    "\n",
    "You can now load a pretrained neural network model we provide.\n",
    "Your last task is to run the model on the MNIST test dataset, plot some example images with the predicted labels and compute the prediction accuracy."
   ]
  },
  {
   "cell_type": "code",
   "execution_count": 78,
   "metadata": {},
   "outputs": [
    {
     "name": "stderr",
     "output_type": "stream",
     "text": [
      "<ipython-input-78-3a66173c3563>:4: UserWarning: Tight layout not applied. tight_layout cannot make axes height small enough to accommodate all axes decorations\n",
      "  fig.tight_layout()\n"
     ]
    },
    {
     "data": {
      "image/png": "[encoded data removed]",
      "text/plain": [
       "<Figure size 432x288 with 100 Axes>"
      ]
     },
     "metadata": {
      "needs_background": "light"
     },
     "output_type": "display_data"
    },
    {
     "name": "stdout",
     "output_type": "stream",
     "text": [
      "Achieved percentage of true predictions:  0.982\n"
     ]
    }
   ],
   "source": [
    "def validate(model, data_loader):\n",
    "    # TODO: Create a 10x10 grid of subplots\n",
    "    fig, axs = plt.subplots(10, 10)\n",
    "    fig.tight_layout()\n",
    "    \n",
    "    model.eval()\n",
    "    correct = 0 # count for correct predictions\n",
    "    \n",
    "    with torch.no_grad():\n",
    "        for i, item in enumerate(data_loader):\n",
    "            # TODO: unpack item into image and ground truth\n",
    "            #       and run network on them\n",
    "            img, gt = item\n",
    "            pred = model(img)\n",
    "            \n",
    "            # TODO: get class with highest probability\n",
    "            res = pred.argmax(-1)\n",
    "            \n",
    "            # TODO: check if prediction is correct\n",
    "            #       and add it to correct count\n",
    "            if res == gt:\n",
    "                correct += 1\n",
    "            \n",
    "            \n",
    "            # plot the first 100 images\n",
    "            if i < 100:\n",
    "                # TODO: compute position of ith image in the grid\n",
    "                ax1 = i // 10\n",
    "                ax2 = (i - (ax1 * 10))\n",
    "                \n",
    "                # TODO: convert image tensor to numpy array\n",
    "                #       and normalize to [0, 1]\n",
    "                rng = img.max() - img.min()\n",
    "                img = (img - img.min()) / rng\n",
    "                new_img = torch.stack([img.squeeze() for i in range(3)], -1).numpy()\n",
    "                \n",
    "                \n",
    "                # TODO: make wrongly predicted images red\n",
    "                if res != gt:\n",
    "                    new_img[..., 1:] = 0\n",
    "                \n",
    "                \n",
    "                # TODO: disable axis and show image\n",
    "                axs[ax1, ax2].axis('off')\n",
    "                axs[ax1, ax2].imshow(new_img)\n",
    "                \n",
    "                \n",
    "                # TODO: show the predicted class next to each image\n",
    "                axs[ax1, ax2].yaxis.set_label_position(\"left\")\n",
    "                axs[ax1, ax2].set_ylabel(str(gt.item()), rotation=0)  # I really tried. Don't know why this is not working\n",
    "                \n",
    "            \n",
    "            elif i == 100:\n",
    "                plt.show()\n",
    "    \n",
    "    # TODO: compute and print the prediction accuracy in percent\n",
    "    print(\"Achieved percentage of true predictions: \", correct / len(data_loader))\n",
    "    \n",
    "\n",
    "# create a DataLoader using the implemented MNIST dataset class\n",
    "data_loader = torch.utils.data.DataLoader(\n",
    "    MNIST('data/mnist/testing',\n",
    "    transform=transforms.Compose([\n",
    "        transforms.ToTensor(),\n",
    "        transforms.Normalize((0.1307,), (0.3081,))\n",
    "    ])),\n",
    "    batch_size=1, shuffle=True)\n",
    "\n",
    "# create the neural network\n",
    "model = Net()\n",
    "\n",
    "# load the statedict from 'models/mnist/simple_cnn.pt'\n",
    "model.load_state_dict(torch.load('models/mnist/simple_cnn.pt'))\n",
    "\n",
    "# validate the model\n",
    "validate(model, data_loader)"
   ]
  },
  {
   "cell_type": "code",
   "execution_count": null,
   "metadata": {},
   "outputs": [],
   "source": []
  }
 ],
 "metadata": {
  "kernelspec": {
   "display_name": "firstEnv",
   "language": "python",
   "name": "firstenv"
  },
  "language_info": {
   "codemirror_mode": {
    "name": "ipython",
    "version": 3
   },
   "file_extension": ".py",
   "mimetype": "text/x-python",
   "name": "python",
   "nbconvert_exporter": "python",
   "pygments_lexer": "ipython3",
   "version": "3.8.3"
  }
 },
 "nbformat": 4,
 "nbformat_minor": 4
}
